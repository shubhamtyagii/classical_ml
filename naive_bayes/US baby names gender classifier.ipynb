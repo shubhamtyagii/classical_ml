{
 "cells": [
  {
   "cell_type": "markdown",
   "metadata": {},
   "source": [
    "# Naive Bayes\n",
    "\n",
    "Naive Bayes is an generative algorithm which is used here for binary classification. Given a name predict whether the name is a boy's name or a girl's name.\n",
    "\n",
    "## Naive Bayes Assumption : \n",
    "All the dimensions of data points are independent of each other.\n",
    "\n"
   ]
  },
  {
   "cell_type": "code",
   "execution_count": 1,
   "metadata": {},
   "outputs": [],
   "source": [
    "import numpy as np\n",
    "import pandas as pd"
   ]
  },
  {
   "cell_type": "code",
   "execution_count": 2,
   "metadata": {},
   "outputs": [],
   "source": [
    "def NameToFeatureVector(name,dims,chunk_count):\n",
    "    vec = np.zeros(dims,dtype=np.int8)\n",
    "    letter_vec = np.zeros(26,dtype = np.int8)\n",
    "    \n",
    "    for i in range(-1,max(-3,-len(name)),-1):\n",
    "        c = name[i]\n",
    "        c = c.lower()\n",
    "        letter_vec[ord(c)-ord('a')] = 1\n",
    "\n",
    "    for i in range(chunk_count):\n",
    "        feature_string = 'prefix' + name[:i]\n",
    "        vec[hash(feature_string) % dims] = 1\n",
    "        feature_string = 'suffix' + name[-i:]\n",
    "        vec[hash(feature_string) % dims] = 1\n",
    "        feature_string = 'middle' + name[i+3:i+5]\n",
    "        vec[hash(feature_string) % dims] = 1\n",
    "\n",
    "    vec = np.concatenate([letter_vec,vec])\n",
    "\n",
    "    return vec\n",
    "\n",
    "def GenerateFeatureVector(names,dims=100,chunk_count=3):\n",
    "    X = np.zeros((len(names),dims+26),dtype=np.int8)\n",
    "    for i in range(len(names)):\n",
    "        X[i,:] = NameToFeatureVector(names[i],dims,chunk_count)\n",
    "    return X\n",
    "\n",
    "def PrepareDataset(filepath,no_of_examples_for_training=2000000):\n",
    "    data = pd.read_csv(filepath)\n",
    "    names = list(data['Name'])\n",
    "    genders = np.array(data['Gender'])\n",
    "    X = GenerateFeatureVector(names)\n",
    "    Y = np.ones(genders.shape[0],dtype=np.int8)\n",
    "    Y[genders == 'F'] = -1\n",
    "    ii = np.random.permutation([i for i in range(len(Y))])\n",
    "    X = X[ii,:]\n",
    "    Y = Y[ii]\n",
    "    return X[:no_of_examples_for_training],Y[:no_of_examples_for_training]"
   ]
  },
  {
   "cell_type": "markdown",
   "metadata": {},
   "source": [
    "# Marginal Probablities\n",
    "\n",
    "## 1=Boy(pos) , -1 = Girl(neg)"
   ]
  },
  {
   "cell_type": "code",
   "execution_count": 3,
   "metadata": {},
   "outputs": [],
   "source": [
    "def NaiveBayesPY(Y):\n",
    "    #smoothing..\n",
    "    Y = np.concatenate([Y, [-1,1]])\n",
    "    pos = np.count_nonzero(Y == 1)/len(Y)\n",
    "    neg = 1-pos\n",
    "    return pos,neg"
   ]
  },
  {
   "cell_type": "markdown",
   "metadata": {},
   "source": [
    "# Conditional Probablity\n",
    "Since it is a generative model. Here we are calculating P(Xi|Y) and multiply the probablity of all the dimensions."
   ]
  },
  {
   "cell_type": "code",
   "execution_count": 4,
   "metadata": {},
   "outputs": [],
   "source": [
    "def NaiveBayesPXY(X,Y):\n",
    "    n,d = X.shape\n",
    "    # smoothing...\n",
    "    X = np.concatenate([X,np.ones((2,d)),np.zeros((2,d))])\n",
    "    Y = np.concatenate([Y,[1,-1,1,-1]])\n",
    "    \n",
    "    n,d = X.shape\n",
    "    \n",
    "    pos = np.where(Y == 1)[0]\n",
    "    X_pos = X[pos]\n",
    "    X_sum = np.sum(X_pos,axis=0)\n",
    "    posprob = np.divide(X_sum,pos.shape[0])\n",
    "    \n",
    "    neg = np.where(Y == -1)[0]\n",
    "    X_neg = X[neg]\n",
    "    X_sum = np.sum(X_neg,axis=0)\n",
    "    negprob = np.divide(X_sum,neg.shape[0])\n",
    "    \n",
    "    return posprob, negprob"
   ]
  },
  {
   "cell_type": "markdown",
   "metadata": {},
   "source": [
    "### Take log of all the probablities to avoid the precision issues because of multiplication of smaller numbers"
   ]
  },
  {
   "cell_type": "code",
   "execution_count": 5,
   "metadata": {},
   "outputs": [],
   "source": [
    "def LogLikelihood(posprob,negprob,X_test,Y_test):\n",
    "    \n",
    "    n,d = X_test.shape\n",
    "    loglikelihood = np.zeros(n)\n",
    "    \n",
    "    for i in range(n):\n",
    "        vec = X_test[i,:]\n",
    "        feature_1 = np.where(vec == 1)[0]\n",
    "        feature_0 = np.where(vec == 0)[0]\n",
    "        if(Y_test[i] == 1):\n",
    "            likelihood = np.sum(np.log(posprob[feature_1]))\n",
    "            likelihood += np.sum(np.log(1 - posprob[feature_0]))\n",
    "        else:\n",
    "            likelihood = np.sum(np.log(negprob[feature_1]))\n",
    "            likelihood += np.sum(np.log(1 - negprob[feature_0]))\n",
    "        loglikelihood[i] = likelihood\n",
    "    return loglikelihood"
   ]
  },
  {
   "cell_type": "markdown",
   "metadata": {},
   "source": [
    "### Predict the label for a given name"
   ]
  },
  {
   "cell_type": "code",
   "execution_count": 6,
   "metadata": {},
   "outputs": [],
   "source": [
    "def NaiveBayesPredict(pos,neg,posprob,negprob,X_test):\n",
    "    n,d = X_test.shape\n",
    "    pos_label = np.ones(n)\n",
    "    neg_label = np.full((n),-1)\n",
    "    preds = np.ones(n)\n",
    "    loglikelihood_pos = LogLikelihood(posprob,negprob,X_test,pos_label)\n",
    "    loglikelihood_neg = LogLikelihood(posprob,negprob,X_test,neg_label)\n",
    "    \n",
    "    for i in range(n):\n",
    "        pos_prob = loglikelihood_pos[i] + np.log(pos)\n",
    "        neg_prob = loglikelihood_neg[i] + np.log(neg)    \n",
    "        \n",
    "        if(pos_prob - neg_prob < 0):\n",
    "            preds[i] = -1\n",
    "    return preds\n",
    "    "
   ]
  },
  {
   "cell_type": "code",
   "execution_count": 7,
   "metadata": {},
   "outputs": [
    {
     "name": "stdout",
     "output_type": "stream",
     "text": [
      "loading data...\n",
      "data loaded...\n",
      "size of data= (2000000, 126)\n"
     ]
    }
   ],
   "source": [
    "print('loading data...')\n",
    "X,Y = PrepareDataset('dataset/data.csv')\n",
    "print('data loaded...')\n",
    "print('size of data=',X.shape)"
   ]
  },
  {
   "cell_type": "code",
   "execution_count": 8,
   "metadata": {},
   "outputs": [
    {
     "name": "stdout",
     "output_type": "stream",
     "text": [
      "training classifier\n",
      "boys prob:0.44 , and girl prob:0.56\n",
      "Training error: 23.98%\n"
     ]
    }
   ],
   "source": [
    "print('training classifier')\n",
    "pos,neg = NaiveBayesPY(Y)\n",
    "print('boys prob:%.2f' % pos,', and girl prob:%.2f' % neg)\n",
    "posprob,negprob = NaiveBayesPXY(X,Y)\n",
    "error = np.mean(NaiveBayesPredict(pos, neg, posprob, negprob, X) != Y)\n",
    "print('Training error: %.2f%%' % (100 * error))"
   ]
  },
  {
   "cell_type": "code",
   "execution_count": 9,
   "metadata": {},
   "outputs": [
    {
     "name": "stdout",
     "output_type": "stream",
     "text": [
      "Please enter a baby name>\n",
      "john\n",
      "john, I am sure you are a baby boy.\n",
      "\n",
      "Please enter a baby name>\n",
      "kira\n",
      "kira, I am sure you are a baby girl.\n",
      "\n",
      "Please enter a baby name>\n",
      "chris\n",
      "chris, I am sure you are a baby boy.\n",
      "\n",
      "Please enter a baby name>\n",
      "scott\n",
      "scott, I am sure you are a baby girl.\n",
      "\n",
      "Please enter a baby name>\n",
      "\n"
     ]
    }
   ],
   "source": [
    "while True:\n",
    "    print('Please enter a baby name>')\n",
    "    yourname = input()\n",
    "    if len(yourname) < 1:\n",
    "        break\n",
    "    xtest = GenerateFeatureVector([yourname])\n",
    "    pred = NaiveBayesPredict(pos, neg, posprob, negprob, xtest)\n",
    "    \n",
    "    if pred[0] > 0:\n",
    "        print(\"%s, I am sure you are a baby boy.\\n\" % yourname)\n",
    "    else:\n",
    "        print(\"%s, I am sure you are a baby girl.\\n\" % yourname)"
   ]
  },
  {
   "cell_type": "code",
   "execution_count": null,
   "metadata": {},
   "outputs": [],
   "source": []
  },
  {
   "cell_type": "code",
   "execution_count": null,
   "metadata": {},
   "outputs": [],
   "source": []
  }
 ],
 "metadata": {
  "kernelspec": {
   "display_name": "Python [conda env:.conda-c-ML] *",
   "language": "python",
   "name": "conda-env-.conda-c-ML-py"
  },
  "language_info": {
   "codemirror_mode": {
    "name": "ipython",
    "version": 3
   },
   "file_extension": ".py",
   "mimetype": "text/x-python",
   "name": "python",
   "nbconvert_exporter": "python",
   "pygments_lexer": "ipython3",
   "version": "3.6.12"
  }
 },
 "nbformat": 4,
 "nbformat_minor": 4
}

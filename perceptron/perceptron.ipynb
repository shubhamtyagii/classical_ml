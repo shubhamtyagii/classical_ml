{
 "cells": [
  {
   "cell_type": "code",
   "execution_count": 1,
   "metadata": {},
   "outputs": [],
   "source": [
    "import numpy as np\n",
    "import matplotlib.pyplot as plt"
   ]
  },
  {
   "cell_type": "code",
   "execution_count": 184,
   "metadata": {},
   "outputs": [],
   "source": [
    "def generate_dataset():\n",
    "    d1 = 60\n",
    "    d2 =60\n",
    "    mu1 = (10,10)\n",
    "    sigma1 = ((60,0),(0,60))\n",
    "    mu2 = (50,40)\n",
    "    sigma2 = ((70,0),(0,100))\n",
    "    X1 = np.random.multivariate_normal(mu1,sigma1,d1)\n",
    "    Y1 = np.ones(d1)\n",
    "    X2 = np.random.multivariate_normal(mu2,sigma2,60)\n",
    "    Y2 = np.empty(d2)\n",
    "    Y2.fill(-1)\n",
    "    return X1,X2,Y1,Y2  "
   ]
  },
  {
   "cell_type": "code",
   "execution_count": 185,
   "metadata": {},
   "outputs": [
    {
     "name": "stdout",
     "output_type": "stream",
     "text": [
      "(60, 2) (60,) (60, 2) (60,) (120, 2)\n"
     ]
    }
   ],
   "source": [
    "X1,X2,Y1,Y2 = generate_dataset()\n",
    "X = np.concatenate((X1,X2))\n",
    "Y = np.concatenate((Y1,Y2))\n",
    "print(X1.shape,Y1.shape,X2.shape,Y2.shape,X.shape)"
   ]
  },
  {
   "cell_type": "code",
   "execution_count": 186,
   "metadata": {},
   "outputs": [
    {
     "data": {
      "image/png": "[encoded data removed]",
      "text/plain": [
       "<Figure size 432x288 with 1 Axes>"
      ]
     },
     "metadata": {
      "needs_background": "light"
     },
     "output_type": "display_data"
    }
   ],
   "source": [
    "plt.scatter(X1[:,0],X1[:,1], c='b', marker='x', label='1')\n",
    "plt.scatter(X2[:,0],X2[:,1], c='r', marker='s', label='-1')\n",
    "plt.legend(loc='upper left')\n",
    "plt.show()"
   ]
  },
  {
   "cell_type": "code",
   "execution_count": 187,
   "metadata": {},
   "outputs": [],
   "source": [
    "def initialize_perceptron(dims):\n",
    "    return np.zeros((dims+1))    "
   ]
  },
  {
   "cell_type": "code",
   "execution_count": 188,
   "metadata": {},
   "outputs": [],
   "source": [
    "def update_perceptron(x,y,w):\n",
    "    return w+y*x"
   ]
  },
  {
   "cell_type": "code",
   "execution_count": 189,
   "metadata": {},
   "outputs": [],
   "source": [
    "def perceptron(X,Y):\n",
    "    n,d = X.shape\n",
    "    w = initialize_perceptron(d)\n",
    "    b = 0.0\n",
    "    count=0\n",
    "    \n",
    "    while(count<100):\n",
    "        m=0\n",
    "        permutation = np.random.permutation(n)\n",
    "        xt = X[permutation]\n",
    "        yt = Y[permutation]\n",
    "        for i in range(n):\n",
    "            xi = xt[i]\n",
    "            yi = yt[i]\n",
    "            xi = np.append(xi,1)\n",
    "            if yi*np.dot(xi,w) <= 0:\n",
    "                m+=1\n",
    "                w = update_perceptron(xi,yi,w)\n",
    "            xi = xi[:-1]\n",
    "        if(m == 0):\n",
    "            break\n",
    "        count+=1\n",
    "    b=w[-1]\n",
    "    w = w[:-1]\n",
    "    return w,b"
   ]
  },
  {
   "cell_type": "code",
   "execution_count": 190,
   "metadata": {},
   "outputs": [],
   "source": [
    "w,b = perceptron(X,Y)"
   ]
  },
  {
   "cell_type": "code",
   "execution_count": 191,
   "metadata": {},
   "outputs": [
    {
     "name": "stdout",
     "output_type": "stream",
     "text": [
      "[-9.1218539  -6.15017932] 385.0\n"
     ]
    }
   ],
   "source": [
    "print(w,b)"
   ]
  },
  {
   "cell_type": "code",
   "execution_count": 192,
   "metadata": {},
   "outputs": [],
   "source": [
    "assert (all(np.sign(Y*(X.dot(w)+b))==1.0))"
   ]
  },
  {
   "cell_type": "code",
   "execution_count": 194,
   "metadata": {},
   "outputs": [
    {
     "data": {
      "image/png": "[encoded data removed]",
      "text/plain": [
       "<Figure size 432x288 with 1 Axes>"
      ]
     },
     "metadata": {
      "needs_background": "light"
     },
     "output_type": "display_data"
    }
   ],
   "source": [
    "# draw decision boundary\n",
    "fig = plt.figure()\n",
    "ax = fig.add_subplot()\n",
    "line = None\n",
    "ax.scatter(X1[:,0],X1[:,1], c='b', marker='x', label='1')\n",
    "ax.scatter(X2[:,0],X2[:,1], c='r', marker='s', label='-1')\n",
    "plt.legend(loc = 'upper left')\n",
    "# q=-b/(w**2).sum() *w\n",
    "a = -w[0]/w[1]\n",
    "xx = np.linspace(-20, 60)\n",
    "yy = a * xx - (b) / w[1]\n",
    "line, = ax.plot(xx,yy,'b--')\n"
   ]
  },
  {
   "cell_type": "code",
   "execution_count": null,
   "metadata": {},
   "outputs": [],
   "source": []
  }
 ],
 "metadata": {
  "kernelspec": {
   "display_name": "Python [conda env:.conda-c-ML] *",
   "language": "python",
   "name": "conda-env-.conda-c-ML-py"
  },
  "language_info": {
   "codemirror_mode": {
    "name": "ipython",
    "version": 3
   },
   "file_extension": ".py",
   "mimetype": "text/x-python",
   "name": "python",
   "nbconvert_exporter": "python",
   "pygments_lexer": "ipython3",
   "version": "3.6.12"
  }
 },
 "nbformat": 4,
 "nbformat_minor": 4
}
